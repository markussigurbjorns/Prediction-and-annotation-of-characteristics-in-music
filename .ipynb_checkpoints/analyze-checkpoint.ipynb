{
 "cells": [
  {
   "cell_type": "code",
   "execution_count": 58,
   "metadata": {
    "id": "FukAschHjXU5"
   },
   "outputs": [],
   "source": [
    "import os\n",
    "import numpy as np\n",
    "import json\n",
    "from sklearn.metrics import confusion_matrix"
   ]
  },
  {
   "cell_type": "markdown",
   "metadata": {
    "id": "XDTbUXOzxunz"
   },
   "source": [
    "To run the code set your folders where the comments are\n"
   ]
  },
  {
   "cell_type": "code",
   "execution_count": 74,
   "metadata": {
    "id": "QiuOHkIuvhtI"
   },
   "outputs": [],
   "source": [
    "def checkIfCorrect(song, data, characteristic):\n",
    "  for root, dirs, files in os.walk('/content/drive/MyDrive/mtg-jamendo-annotator/annotations'): #folder to annotated data which was annoted with hand\n",
    "    for file in files:\n",
    "      if file.endswith('.json'):\n",
    "        if file.split('_')[1] == song:\n",
    "          with open(os.path.abspath(os.path.join(root, file))) as json_file:\n",
    "            songfile = json.load(json_file)\n",
    "            y_true.append(int(songfile[characteristic]))\n",
    "            if int(data) == int(songfile[characteristic]):\n",
    "              return True\n",
    "            else:  \n",
    "              return False\n",
    "\n",
    "def checkIfCorrectflipped(song, data, characteristic):\n",
    "  for root, dirs, files in os.walk('/content/drive/MyDrive/mtg-jamendo-annotator/annotations'):#folder to annotated data which was annoted with hand\n",
    "    for file in files:\n",
    "      if file.endswith('.json'):\n",
    "        if file.split('_')[1] == song:\n",
    "          with open(os.path.abspath(os.path.join(root, file))) as json_file:\n",
    "            songfile = json.load(json_file)\n",
    "            if int(songfile[characteristic]) == 0:\n",
    "              y_true.append(1)\n",
    "            else:\n",
    "              y_true.append(0)\n",
    "            if int(data) != int(songfile[characteristic]):\n",
    "              return True\n",
    "            else:  \n",
    "              return False\n",
    "\n",
    "\n"
   ]
  },
  {
   "cell_type": "code",
   "execution_count": 76,
   "metadata": {
    "colab": {
     "base_uri": "https://localhost:8080/"
    },
    "id": "Kn1Xc1H5jzL9",
    "outputId": "48cdd826-800b-4595-b141-29bfb0fccb20"
   },
   "outputs": [
    {
     "name": "stdout",
     "output_type": "stream",
     "text": [
      "mood_acoustic\n",
      "0.8295454545454546\n",
      "[[ 66  38]\n",
      " [  7 153]]\n",
      "mood_electronic\n",
      "0.8409090909090909\n",
      "[[133  28]\n",
      " [ 14  89]]\n",
      "mood_aggressive\n",
      "0.7765151515151515\n",
      "[[ 29  46]\n",
      " [ 13 176]]\n",
      "mood_relaxed\n",
      "0.6212121212121212\n",
      "[[97 99]\n",
      " [ 1 67]]\n",
      "mood_happy\n",
      "0.6439393939393939\n",
      "[[ 31  57]\n",
      " [ 37 139]]\n",
      "mood_sad\n",
      "0.6363636363636364\n",
      "[[136  92]\n",
      " [  4  32]]\n",
      "mood_party\n",
      "0.803030303030303\n",
      "[[172  40]\n",
      " [ 12  40]]\n",
      "tonal_atonal\n",
      "0.3371212121212121\n",
      "[[86 90]\n",
      " [85  3]]\n",
      "danceability\n",
      "0.7272727272727273\n",
      "[[ 75  10]\n",
      " [ 62 117]]\n",
      "voice_instrumental\n",
      "0.8409090909090909\n",
      "[[165  33]\n",
      " [  9  57]]\n",
      "gender\n",
      "0.9545454545454546\n",
      "[[144  66]\n",
      " [  7  47]]\n",
      "{'mood_acoustic': 0.8295454545454546, 'mood_electronic': 0.8409090909090909, 'mood_aggressive': 0.7765151515151515, 'mood_relaxed': 0.6212121212121212, 'mood_happy': 0.6439393939393939, 'mood_sad': 0.6363636363636364, 'mood_party': 0.803030303030303, 'tonal_atonal': 0.3371212121212121, 'danceability': 0.7272727272727273, 'voice_instrumental': 0.8409090909090909, 'gender': 0.9545454545454546}\n"
     ]
    }
   ],
   "source": [
    "\n",
    "\n",
    "\n",
    "\n",
    "characteristics = ['mood_acoustic','mood_electronic','mood_aggressive',\n",
    "                   'mood_relaxed', 'mood_happy', 'mood_sad','mood_party','tonal_atonal',\n",
    "                   'danceability','voice_instrumental', 'gender'] \n",
    "\n",
    "flipped = ['mood_acoustic', 'mood_electronic', 'mood_aggressive','mood_happy',\n",
    "           'tonal_atonal', 'danceability','gender']\n",
    "results = dict()\n",
    "\n",
    "for i,charact in enumerate(characteristics):\n",
    "  correct = 0\n",
    "  incorrect = 0\n",
    "  y_true = []\n",
    "  y_pred = [] \n",
    "  print(charact)\n",
    "\n",
    "  for root, dirs, files in os.walk('/content/drive/MyDrive/ampresultsVGG'): # change this folder to which prediction data you want to analize\n",
    "    for file in files:\n",
    "      if file.endswith('.json'):\n",
    "        with open(os.path.abspath(os.path.join(root, file))) as json_file:\n",
    "          data = json.load(json_file)\n",
    "          if charact in flipped:\n",
    "            result = checkIfCorrectflipped(file, data[charact], charact)\n",
    "          else:\n",
    "            result = checkIfCorrect(file, data[charact], charact)\n",
    "          #print(result)\n",
    "          y_pred.append(data[charact])\n",
    "          if result:\n",
    "            correct+=1\n",
    "          else:\n",
    "            incorrect+=1\n",
    "  accuracy = correct / (correct+incorrect)\n",
    "  print(accuracy)\n",
    "  results[charact] = accuracy\n",
    "  print(confusion_matrix(y_true, y_pred))\n",
    "\n",
    "\n",
    "print(results)\n"
   ]
  },
  {
   "cell_type": "code",
   "execution_count": 75,
   "metadata": {
    "id": "zHgTIWBylBUi"
   },
   "outputs": [],
   "source": [
    "\n",
    "\n",
    "\n",
    "\n",
    "\n",
    "\n",
    "\n",
    "\n",
    "\n"
   ]
  },
  {
   "cell_type": "code",
   "execution_count": null,
   "metadata": {
    "id": "yUC8-9MsdKSv"
   },
   "outputs": [],
   "source": []
  }
 ],
 "metadata": {
  "colab": {
   "collapsed_sections": [],
   "name": "analyze.ipynb",
   "provenance": []
  },
  "kernelspec": {
   "display_name": "Python 3",
   "language": "python",
   "name": "python3"
  },
  "language_info": {
   "codemirror_mode": {
    "name": "ipython",
    "version": 3
   },
   "file_extension": ".py",
   "mimetype": "text/x-python",
   "name": "python",
   "nbconvert_exporter": "python",
   "pygments_lexer": "ipython3",
   "version": "3.8.6"
  }
 },
 "nbformat": 4,
 "nbformat_minor": 1
}
